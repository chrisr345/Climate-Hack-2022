{
 "cells": [
  {
   "cell_type": "markdown",
   "id": "3907428b-5edb-472b-a29b-f7facb915cfb",
   "metadata": {
    "id": "3907428b-5edb-472b-a29b-f7facb915cfb"
   },
   "source": [
    "# 3. ConvLSTM\n",
    "\n",
    "![convlstm](https://miro.medium.com/max/942/1*u8neecA4w6b_F1NgnyPP0Q.png)\n",
    "\n",
    "For the last sample submission, we are going to cover **ConvLSTM** that are frequently used for future video frame prediction. In addition to that, we are going to mix up things a bit. \n",
    "First of all, we are going to use TensorFlow rather than PyTorch, just to demonstrate how the former can be used to make a valid submission. Consequently, we are not going to use a separate ```model.py``` script and instead, the model is going to be trained within the following notebook and saved for the further use. Lastly, we are going to use MSE loss (used in some papers).\n",
    "\n",
    "## Theory\n",
    "\n",
    "![LSTM cell](https://miro.medium.com/max/1400/1*ujzOtlfaJFWhKb6HS9RS-g.png)\n",
    "\n",
    "As the name of the model migth suggest, **ConvLSTM** system combines Convolutional layers with the Long Short Term Memory architecture. Applying such combination to our problem seems to be quite logical: we are dealing with visual data in which the order of elements matters.\n",
    "\n",
    "In short, ConvLSTM approach is as follows:\n",
    "\n",
    "- **Convolutional layers**. Image is first passed through some Convolutional layers to filter important features.\n",
    "- These features are then connected with fully-connected **Dense network**.\n",
    "- The 3D input is then passed though LSTM architecture.\n",
    "\n",
    "Fortunately to us, Keras already has a predefined ConvLSTM layer that can be used to implement such system. The parameters set inside the ```ConvLSTM``` function remain similar to those in the regular ```Conv``` layer, the main difference appears in the input (as well as output) dimensions - it will become more clear as be go through.\n",
    "\n",
    "\n",
    "## Implementation\n",
    "\n",
    "Before implementing ConvLSTM system, we first have to decide on the exact approach we are going to take for the this problem. As we know, we have twelve 128x128 images as our input and we have to produce twenty-four 64x64 future images.\n",
    "\n",
    "So far, we built models that took all twelve images as an input and produced twenty-four reduced images which increased the number of parameters in our model significantly. The following implementation will take a bit different approach:\n",
    "\n",
    "- The input images will be **resized to 64x64** prior to passing them through the model\n",
    "- Model will be trained to predict a **consecutive frame** rather than 24 new frames"
   ]
  },
  {
   "cell_type": "markdown",
   "id": "642c976a",
   "metadata": {},
   "source": [
    "#### Importing modules"
   ]
  },
  {
   "cell_type": "code",
   "execution_count": 1,
   "id": "ccebc6d1",
   "metadata": {},
   "outputs": [],
   "source": [
    "import tensorflow as tf\n",
    "from tensorflow.keras import layers\n",
    "from tensorflow import keras\n",
    "import matplotlib.pyplot as plt\n",
    "import xarray as xr\n",
    "import numpy as np\n",
    "from numpy import float32\n",
    "from dataset import ClimateHackDataset\n",
    "\n",
    "plt.rcParams[\"figure.figsize\"] = (20, 12)"
   ]
  },
  {
   "cell_type": "markdown",
   "id": "fd438750",
   "metadata": {},
   "source": [
    "#### Loading data\n",
    "\n",
    "As the following implementation will use TensorFlow instead of PyTorch, we are going to import different ```dataset.py``` script than in the previous cases. In addition, we are no longer loading 12 and 24 images for the input-output data - as we are predicting the consecutive term, we are importing one image for each input-output pair. Other than that, the process of loading data remains the same."
   ]
  },
  {
   "cell_type": "code",
   "execution_count": 2,
   "id": "37645467",
   "metadata": {},
   "outputs": [
    {
     "name": "stdout",
     "output_type": "stream",
     "text": [
      "Processing...\n"
     ]
    }
   ],
   "source": [
    "BATCH_SIZE = 8\n",
    "EPOCHS = 10\n",
    "\n",
    "ch_dataset = ClimateHackDataset(\"/afs/cs.stanford.edu/u/chrisglc/Climate-Hack-2022/data.npz\", crops_per_slice=2)\n",
    "coordinates, features, labels = ch_dataset.load_data()\n",
    "\n",
    "#Expanding dimensions of our features and labels\n",
    "features = np.expand_dims(features, -1)\n",
    "labels = np.expand_dims(labels, -1)"
   ]
  },
  {
   "cell_type": "code",
   "execution_count": 17,
   "id": "fcfa70ae",
   "metadata": {},
   "outputs": [
    {
     "data": {
      "text/plain": [
       "(1680, 1, 128, 128, 1)"
      ]
     },
     "execution_count": 17,
     "metadata": {},
     "output_type": "execute_result"
    }
   ],
   "source": [
    "features.shape"
   ]
  },
  {
   "cell_type": "markdown",
   "id": "82ebc7d6",
   "metadata": {},
   "source": [
    "#### Preprocessing\n",
    "\n",
    "Prior to building the ConvLSTM system, we need to preprocess our image data. The input image (128x128) has to be resized to (64x64) followed by normalization.\n",
    "\n",
    "In addition, we need to make sure that our input data has the right number of dimensions. Similar to the regular Convolutional layers, we will need the final three dimensions that will corespond to height, width and the number of channels. In addition to that, we have already expanded the initial 3-dimensional imagery data to 4 dimensions (image sample). As the sequence of data matters, we need to add the additional 5th dimension, therefore, the previously described normalization will be followed by dimension expansion.\n",
    "\n",
    "Overall, our input to ConvLSTM layer will have the shape of ```(batch_size, frame_num, width, height, channels)```"
   ]
  },
  {
   "cell_type": "code",
   "execution_count": 15,
   "id": "744c0d8f",
   "metadata": {},
   "outputs": [
    {
     "data": {
      "text/plain": [
       "<matplotlib.image.AxesImage at 0x7f83741a91c0>"
      ]
     },
     "execution_count": 15,
     "metadata": {},
     "output_type": "execute_result"
    },
    {
     "data": {
      "image/png": "[encoded data removed]",
      "text/plain": [
       "<Figure size 1440x864 with 1 Axes>"
      ]
     },
     "metadata": {
      "needs_background": "light"
     },
     "output_type": "display_data"
    }
   ],
   "source": [
    "plt.imshow(X[0][0])"
   ]
  },
  {
   "cell_type": "code",
   "execution_count": 5,
   "id": "cdcda900",
   "metadata": {},
   "outputs": [],
   "source": [
    "Images = features[:, 0, :, :, :]\n",
    "# Resizing images to 64x64\n",
    "X = tf.image.resize(Images, (64, 64))\n",
    "# Expanding dimensions\n",
    "X = np.expand_dims(X, axis = 1)"
   ]
  },
  {
   "cell_type": "code",
   "execution_count": 91,
   "id": "1fe4f26d",
   "metadata": {},
   "outputs": [],
   "source": [
    "def ssim_loss(y_true, y_pred):\n",
    "    return tf.reduce_mean(tf_ms_ssim(y_true, y_pred, 2.0))\n",
    "\n",
    "def _tf_fspecial_gauss(size, sigma):\n",
    "    \"\"\"Function to mimic the 'fspecial' gaussian MATLAB function\n",
    "    \"\"\"\n",
    "    x_data, y_data = np.mgrid[-size//2 + 1:size//2 + 1, -size//2 + 1:size//2 + 1]\n",
    "\n",
    "    x_data = np.expand_dims(x_data, axis=-1)\n",
    "    x_data = np.expand_dims(x_data, axis=-1)\n",
    "\n",
    "    y_data = np.expand_dims(y_data, axis=-1)\n",
    "    y_data = np.expand_dims(y_data, axis=-1)\n",
    "\n",
    "    x = tf.constant(x_data, dtype=tf.float32)\n",
    "    y = tf.constant(y_data, dtype=tf.float32)\n",
    "\n",
    "    g = tf.exp(-((x**2 + y**2)/(2.0*sigma**2)))\n",
    "    return g / tf.reduce_sum(g)\n",
    "\n",
    "\n",
    "def tf_ssim(img1, img2, cs_map=False, mean_metric=True, size=11, sigma=1.5):\n",
    "    window = _tf_fspecial_gauss(size, sigma) # window shape [size, size]\n",
    "    K1 = 0.01\n",
    "    K2 = 0.03\n",
    "    L = 1  # depth of image (255 in case the image has a differnt scale)\n",
    "    C1 = (K1*L)**2\n",
    "    C2 = (K2*L)**2\n",
    "    mu1 = tf.nn.conv2d(img1, window, strides=[1,1,1,1], padding='VALID')\n",
    "    mu2 = tf.nn.conv2d(img2, window, strides=[1,1,1,1],padding='VALID')\n",
    "    mu1_sq = mu1*mu1\n",
    "    mu2_sq = mu2*mu2\n",
    "    mu1_mu2 = mu1*mu2\n",
    "    sigma1_sq = tf.nn.conv2d(img1*img1, window, strides=[1,1,1,1],padding='VALID') - mu1_sq\n",
    "    sigma2_sq = tf.nn.conv2d(img2*img2, window, strides=[1,1,1,1],padding='VALID') - mu2_sq\n",
    "    sigma12 = tf.nn.conv2d(img1*img2, window, strides=[1,1,1,1],padding='VALID') - mu1_mu2\n",
    "    if cs_map:\n",
    "        value = (((2*mu1_mu2 + C1)*(2*sigma12 + C2))/((mu1_sq + mu2_sq + C1)*\n",
    "                    (sigma1_sq + sigma2_sq + C2)),\n",
    "                (2.0*sigma12 + C2)/(sigma1_sq + sigma2_sq + C2))\n",
    "    else:\n",
    "        value = ((2*mu1_mu2 + C1)*(2*sigma12 + C2))/((mu1_sq + mu2_sq + C1)*\n",
    "                    (sigma1_sq + sigma2_sq + C2))\n",
    "\n",
    "    if mean_metric:\n",
    "        value = tf.reduce_mean(value)\n",
    "    return value\n",
    "\n",
    "\n",
    "def tf_ms_ssim(img1, img2, mean_metric=True, level=5):\n",
    "    weight = tf.constant([0.0448, 0.2856, 0.3001, 0.2363, 0.1333], dtype=tf.float32)\n",
    "    mssim = []\n",
    "    mcs = []\n",
    "    for l in range(level):\n",
    "        ssim_map, cs_map = tf_ssim(img1, img2, cs_map=True, mean_metric=False)\n",
    "        mssim.append(tf.reduce_mean(ssim_map))\n",
    "        mcs.append(tf.reduce_mean(cs_map))\n",
    "        filtered_im1 = tf.nn.avg_pool(img1, [1,2,2,1], [1,2,2,1], padding='SAME')\n",
    "        filtered_im2 = tf.nn.avg_pool(img2, [1,2,2,1], [1,2,2,1], padding='SAME')\n",
    "        img1 = filtered_im1\n",
    "        img2 = filtered_im2\n",
    "\n",
    "    # list to tensor of dim D+1\n",
    "    mssim = tf.pack(mssim, axis=0)\n",
    "    mcs = tf.pack(mcs, axis=0)\n",
    "\n",
    "    value = (tf.reduce_prod(mcs[0:level-1]**weight[0:level-1])*\n",
    "                            (mssim[level-1]**weight[level-1]))\n",
    "\n",
    "    if mean_metric:\n",
    "        value = tf.reduce_mean(value)\n",
    "    return value"
   ]
  },
  {
   "cell_type": "markdown",
   "id": "a4071b6a",
   "metadata": {},
   "source": [
    "#### Building model\n",
    "\n",
    "We will use ConvLSTM system presented in [this paper](https://papers.nips.cc/paper/2015/file/07563a3fe3bbe7e3ba84431ad9d055af-Paper.pdf). In short, it will contain:\n",
    "\n",
    "- 3 **ConvLSTM2D** layers\n",
    "- 2 **batch normalization** layers in between\n",
    "- Last **Conv3D** layer for spatiotemporal resolution"
   ]
  },
  {
   "cell_type": "code",
   "execution_count": 92,
   "id": "9e9d0dfb",
   "metadata": {},
   "outputs": [],
   "source": [
    "inp = layers.Input(shape=(None, *X.shape[2:]))\n",
    "\n",
    "x = layers.ConvLSTM2D(\n",
    "    filters=64,\n",
    "    kernel_size=(5, 5),\n",
    "    padding=\"same\",\n",
    "    return_sequences=True,\n",
    "    activation=\"relu\",\n",
    ")(inp)\n",
    "x = layers.BatchNormalization()(x)\n",
    "\n",
    "x = layers.ConvLSTM2D(\n",
    "    filters=64,\n",
    "    kernel_size=(3, 3),\n",
    "    padding=\"same\",\n",
    "    return_sequences=True,\n",
    "    activation=\"relu\",\n",
    ")(x)\n",
    "x = layers.BatchNormalization()(x)\n",
    "\n",
    "x = layers.ConvLSTM2D(\n",
    "    filters=64,\n",
    "    kernel_size=(1, 1),\n",
    "    padding=\"same\",\n",
    "    return_sequences=True,\n",
    "    activation=\"relu\",\n",
    ")(x)\n",
    "\n",
    "x = layers.Conv3D(\n",
    "    filters=1, kernel_size=(3, 3, 3), activation=\"sigmoid\", padding=\"same\"\n",
    ")(x) * 1023\n",
    "\n",
    "model = keras.models.Model(inp, x)\n",
    "\n",
    "model.compile(loss=ssim_loss, optimizer='adam')"
   ]
  },
  {
   "cell_type": "markdown",
   "id": "e0c1735a",
   "metadata": {},
   "source": [
    "Before training our model, it is also crucial to check that the number of dimensions throughout all layers are correct and we are getting the output we expected."
   ]
  },
  {
   "cell_type": "code",
   "execution_count": 93,
   "id": "e9d119ff",
   "metadata": {},
   "outputs": [
    {
     "name": "stdout",
     "output_type": "stream",
     "text": [
      "Model: \"model_16\"\n",
      "_________________________________________________________________\n",
      " Layer (type)                Output Shape              Param #   \n",
      "=================================================================\n",
      " input_17 (InputLayer)       [(None, None, 64, 64, 1)  0         \n",
      "                             ]                                   \n",
      "                                                                 \n",
      " conv_lstm2d_48 (ConvLSTM2D)  (None, None, 64, 64, 64)  416256   \n",
      "                                                                 \n",
      " batch_normalization_32 (Bat  (None, None, 64, 64, 64)  256      \n",
      " chNormalization)                                                \n",
      "                                                                 \n",
      " conv_lstm2d_49 (ConvLSTM2D)  (None, None, 64, 64, 64)  295168   \n",
      "                                                                 \n",
      " batch_normalization_33 (Bat  (None, None, 64, 64, 64)  256      \n",
      " chNormalization)                                                \n",
      "                                                                 \n",
      " conv_lstm2d_50 (ConvLSTM2D)  (None, None, 64, 64, 64)  33024    \n",
      "                                                                 \n",
      " conv3d_16 (Conv3D)          (None, None, 64, 64, 1)   1729      \n",
      "                                                                 \n",
      " tf.math.multiply_16 (TFOpLa  (None, None, 64, 64, 1)  0         \n",
      " mbda)                                                           \n",
      "                                                                 \n",
      "=================================================================\n",
      "Total params: 746,689\n",
      "Trainable params: 746,433\n",
      "Non-trainable params: 256\n",
      "_________________________________________________________________\n"
     ]
    }
   ],
   "source": [
    "model.summary()"
   ]
  },
  {
   "cell_type": "markdown",
   "id": "cd2b2338",
   "metadata": {},
   "source": [
    "#### Training model"
   ]
  },
  {
   "cell_type": "code",
   "execution_count": 94,
   "id": "142cee03",
   "metadata": {},
   "outputs": [
    {
     "ename": "TypeError",
     "evalue": "in user code:\n\n    File \"/deep/group/packages/miniconda3/envs/wellpadres/lib/python3.9/site-packages/keras/engine/training.py\", line 1021, in train_function  *\n        return step_function(self, iterator)\n    File \"<ipython-input-87-e6c3b6bd4757>\", line 2, in ssim_loss  *\n        return tf.reduce_mean(tf_ms_ssim(y_true, y_pred, 2.0))\n    File \"<ipython-input-91-24f8c695cb23>\", line 58, in tf_ms_ssim  *\n        filtered_im1 = tf.nn.avg_pool(img1, [1,2,2,1], [1,2,2,1], ksize=3, padding='SAME')\n\n    TypeError: Got multiple values for argument 'ksize'\n",
     "output_type": "error",
     "traceback": [
      "\u001b[0;31m---------------------------------------------------------------------------\u001b[0m",
      "\u001b[0;31mTypeError\u001b[0m                                 Traceback (most recent call last)",
      "\u001b[0;32m<ipython-input-94-e79d33786f68>\u001b[0m in \u001b[0;36m<module>\u001b[0;34m\u001b[0m\n\u001b[0;32m----> 1\u001b[0;31m \u001b[0mmodel\u001b[0m\u001b[0;34m.\u001b[0m\u001b[0mfit\u001b[0m\u001b[0;34m(\u001b[0m\u001b[0mX\u001b[0m\u001b[0;34m,\u001b[0m \u001b[0mlabels\u001b[0m\u001b[0;34m,\u001b[0m \u001b[0mbatch_size\u001b[0m \u001b[0;34m=\u001b[0m \u001b[0;36m32\u001b[0m\u001b[0;34m,\u001b[0m \u001b[0mepochs\u001b[0m \u001b[0;34m=\u001b[0m \u001b[0;36m1\u001b[0m\u001b[0;34m)\u001b[0m\u001b[0;34m\u001b[0m\u001b[0;34m\u001b[0m\u001b[0m\n\u001b[0m",
      "\u001b[0;32m/deep/group/packages/miniconda3/envs/wellpadres/lib/python3.9/site-packages/keras/utils/traceback_utils.py\u001b[0m in \u001b[0;36merror_handler\u001b[0;34m(*args, **kwargs)\u001b[0m\n\u001b[1;32m     65\u001b[0m     \u001b[0;32mexcept\u001b[0m \u001b[0mException\u001b[0m \u001b[0;32mas\u001b[0m \u001b[0me\u001b[0m\u001b[0;34m:\u001b[0m  \u001b[0;31m# pylint: disable=broad-except\u001b[0m\u001b[0;34m\u001b[0m\u001b[0;34m\u001b[0m\u001b[0m\n\u001b[1;32m     66\u001b[0m       \u001b[0mfiltered_tb\u001b[0m \u001b[0;34m=\u001b[0m \u001b[0m_process_traceback_frames\u001b[0m\u001b[0;34m(\u001b[0m\u001b[0me\u001b[0m\u001b[0;34m.\u001b[0m\u001b[0m__traceback__\u001b[0m\u001b[0;34m)\u001b[0m\u001b[0;34m\u001b[0m\u001b[0;34m\u001b[0m\u001b[0m\n\u001b[0;32m---> 67\u001b[0;31m       \u001b[0;32mraise\u001b[0m \u001b[0me\u001b[0m\u001b[0;34m.\u001b[0m\u001b[0mwith_traceback\u001b[0m\u001b[0;34m(\u001b[0m\u001b[0mfiltered_tb\u001b[0m\u001b[0;34m)\u001b[0m \u001b[0;32mfrom\u001b[0m \u001b[0;32mNone\u001b[0m\u001b[0;34m\u001b[0m\u001b[0;34m\u001b[0m\u001b[0m\n\u001b[0m\u001b[1;32m     68\u001b[0m     \u001b[0;32mfinally\u001b[0m\u001b[0;34m:\u001b[0m\u001b[0;34m\u001b[0m\u001b[0;34m\u001b[0m\u001b[0m\n\u001b[1;32m     69\u001b[0m       \u001b[0;32mdel\u001b[0m \u001b[0mfiltered_tb\u001b[0m\u001b[0;34m\u001b[0m\u001b[0;34m\u001b[0m\u001b[0m\n",
      "\u001b[0;32m/deep/group/packages/miniconda3/envs/wellpadres/lib/python3.9/site-packages/tensorflow/python/framework/func_graph.py\u001b[0m in \u001b[0;36mautograph_handler\u001b[0;34m(*args, **kwargs)\u001b[0m\n\u001b[1;32m   1145\u001b[0m           \u001b[0;32mexcept\u001b[0m \u001b[0mException\u001b[0m \u001b[0;32mas\u001b[0m \u001b[0me\u001b[0m\u001b[0;34m:\u001b[0m  \u001b[0;31m# pylint:disable=broad-except\u001b[0m\u001b[0;34m\u001b[0m\u001b[0;34m\u001b[0m\u001b[0m\n\u001b[1;32m   1146\u001b[0m             \u001b[0;32mif\u001b[0m \u001b[0mhasattr\u001b[0m\u001b[0;34m(\u001b[0m\u001b[0me\u001b[0m\u001b[0;34m,\u001b[0m \u001b[0;34m\"ag_error_metadata\"\u001b[0m\u001b[0;34m)\u001b[0m\u001b[0;34m:\u001b[0m\u001b[0;34m\u001b[0m\u001b[0;34m\u001b[0m\u001b[0m\n\u001b[0;32m-> 1147\u001b[0;31m               \u001b[0;32mraise\u001b[0m \u001b[0me\u001b[0m\u001b[0;34m.\u001b[0m\u001b[0mag_error_metadata\u001b[0m\u001b[0;34m.\u001b[0m\u001b[0mto_exception\u001b[0m\u001b[0;34m(\u001b[0m\u001b[0me\u001b[0m\u001b[0;34m)\u001b[0m\u001b[0;34m\u001b[0m\u001b[0;34m\u001b[0m\u001b[0m\n\u001b[0m\u001b[1;32m   1148\u001b[0m             \u001b[0;32melse\u001b[0m\u001b[0;34m:\u001b[0m\u001b[0;34m\u001b[0m\u001b[0;34m\u001b[0m\u001b[0m\n\u001b[1;32m   1149\u001b[0m               \u001b[0;32mraise\u001b[0m\u001b[0;34m\u001b[0m\u001b[0;34m\u001b[0m\u001b[0m\n",
      "\u001b[0;31mTypeError\u001b[0m: in user code:\n\n    File \"/deep/group/packages/miniconda3/envs/wellpadres/lib/python3.9/site-packages/keras/engine/training.py\", line 1021, in train_function  *\n        return step_function(self, iterator)\n    File \"<ipython-input-87-e6c3b6bd4757>\", line 2, in ssim_loss  *\n        return tf.reduce_mean(tf_ms_ssim(y_true, y_pred, 2.0))\n    File \"<ipython-input-91-24f8c695cb23>\", line 58, in tf_ms_ssim  *\n        filtered_im1 = tf.nn.avg_pool(img1, [1,2,2,1], [1,2,2,1], ksize=3, padding='SAME')\n\n    TypeError: Got multiple values for argument 'ksize'\n"
     ]
    }
   ],
   "source": [
    "model.fit(X, labels, batch_size = 32, epochs = 1)"
   ]
  },
  {
   "cell_type": "code",
   "execution_count": 20,
   "id": "e9c373e3",
   "metadata": {},
   "outputs": [
    {
     "name": "stdout",
     "output_type": "stream",
     "text": [
      "INFO:tensorflow:Assets written to: saved_model/my_model/assets\n"
     ]
    }
   ],
   "source": [
    "# After the training, make sure to save your model\n",
    "model.save('saved_model/my_model')"
   ]
  },
  {
   "cell_type": "markdown",
   "id": "ed83ce60",
   "metadata": {},
   "source": [
    "#### Testing\n",
    "\n",
    "Before preparing the ```evaluation.py``` script and submitting our model, let's look at sample prediction."
   ]
  },
  {
   "cell_type": "code",
   "execution_count": 21,
   "id": "1c8733d4",
   "metadata": {},
   "outputs": [],
   "source": [
    "# Loading sample image\n",
    "img = features[-10]\n",
    "\n",
    "# Resizing and normalizing image\n",
    "img = np.expand_dims(tf.image.resize(img, (64, 64)), axis = 0) / 1023"
   ]
  },
  {
   "cell_type": "code",
   "execution_count": 22,
   "id": "a7202655",
   "metadata": {},
   "outputs": [],
   "source": [
    "# Loading model\n",
    "model = tf.keras.models.load_model('saved_model/my_model')"
   ]
  },
  {
   "cell_type": "code",
   "execution_count": 86,
   "id": "53482439",
   "metadata": {},
   "outputs": [
    {
     "name": "stdout",
     "output_type": "stream",
     "text": [
      "WARNING:tensorflow:5 out of the last 6 calls to <function Model.make_predict_function.<locals>.predict_function at 0x7f7f7cc85040> triggered tf.function retracing. Tracing is expensive and the excessive number of tracings could be due to (1) creating @tf.function repeatedly in a loop, (2) passing tensors with different shapes, (3) passing Python objects instead of tensors. For (1), please define your @tf.function outside of the loop. For (2), @tf.function has experimental_relax_shapes=True option that relaxes argument shapes that can avoid unnecessary retracing. For (3), please refer to https://www.tensorflow.org/guide/function#controlling_retracing and https://www.tensorflow.org/api_docs/python/tf/function for  more details.\n"
     ]
    },
    {
     "data": {
      "text/plain": [
       "<matplotlib.image.AxesImage at 0x7f7f6dee7dc0>"
      ]
     },
     "execution_count": 86,
     "metadata": {},
     "output_type": "execute_result"
    },
    {
     "data": {
      "image/png": "[encoded data removed]",
      "text/plain": [
       "<Figure size 1440x864 with 1 Axes>"
      ]
     },
     "metadata": {
      "needs_background": "light"
     },
     "output_type": "display_data"
    }
   ],
   "source": [
    "#Generating prediction\n",
    "pred = model.predict(img)\n",
    "\n",
    "# Reducing dimensions to visualize image\n",
    "pred = np.squeeze(np.squeeze(pred, axis = 0), axis = 0)\n",
    "\n",
    "plt.imshow(pred)"
   ]
  },
  {
   "cell_type": "code",
   "execution_count": 14,
   "id": "c509956b",
   "metadata": {},
   "outputs": [
    {
     "data": {
      "text/plain": [
       "<matplotlib.image.AxesImage at 0x7f8374138430>"
      ]
     },
     "execution_count": 14,
     "metadata": {},
     "output_type": "execute_result"
    },
    {
     "data": {
      "image/png": "[encoded data removed]",
      "text/plain": [
       "<Figure size 1440x864 with 1 Axes>"
      ]
     },
     "metadata": {
      "needs_background": "light"
     },
     "output_type": "display_data"
    }
   ],
   "source": [
    "plt.imshow(labels[-10][0])"
   ]
  },
  {
   "cell_type": "markdown",
   "id": "a45d8d9c",
   "metadata": {},
   "source": [
    "#### Deploying model\n",
    "\n",
    "The only custom script that needs to be changed for such system is the ```evaluation.py```. Within the script, you will need to:\n",
    "- Load the model\n",
    "- Preprocess the last image from the given twelve images\n",
    "- Pass image through the model\n",
    "- Use generated image as a new input for the model\n",
    "- Repeat the last two steps until you have 24 images\n",
    "\n",
    "***Depending on the time you are reading this source, such scripts may already be available to use***"
   ]
  }
 ],
 "metadata": {
  "colab": {
   "collapsed_sections": [],
   "name": "Copy of Copy of load_and_plot_HRV_UK_Zarr_from_GCS.ipynb",
   "provenance": []
  },
  "interpreter": {
   "hash": "6f774df9e68be78be8fedc92c8cad2f0688a777ad163558f0717eecbd1f23d05"
  },
  "kernelspec": {
   "display_name": "Python 3",
   "language": "python",
   "name": "python3"
  },
  "language_info": {
   "codemirror_mode": {
    "name": "ipython",
    "version": 3
   },
   "file_extension": ".py",
   "mimetype": "text/x-python",
   "name": "python",
   "nbconvert_exporter": "python",
   "pygments_lexer": "ipython3",
   "version": "3.9.2"
  }
 },
 "nbformat": 4,
 "nbformat_minor": 5
}
